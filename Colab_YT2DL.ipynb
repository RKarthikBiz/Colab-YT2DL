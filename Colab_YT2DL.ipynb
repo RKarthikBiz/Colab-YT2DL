{
  "nbformat": 4,
  "nbformat_minor": 0,
  "metadata": {
    "colab": {
      "provenance": [],
      "authorship_tag": "ABX9TyMH1fkPpqbbsGK9kQ9Qqae/",
      "include_colab_link": true
    },
    "kernelspec": {
      "name": "python3",
      "display_name": "Python 3"
    },
    "language_info": {
      "name": "python"
    }
  },
  "cells": [
    {
      "cell_type": "markdown",
      "metadata": {
        "id": "view-in-github",
        "colab_type": "text"
      },
      "source": [
        "<a href=\"https://colab.research.google.com/github/RKarthikBiz/Colab-YT2DL/blob/main/Colab_YT2DL.ipynb\" target=\"_parent\"><img src=\"https://colab.research.google.com/assets/colab-badge.svg\" alt=\"Open In Colab\"/></a>"
      ]
    },
    {
      "cell_type": "markdown",
      "source": [
        "# **Colab-YT2DL**\n",
        "\n",
        "Step 1: Click run cell on the Prerequisites cell.\n",
        "\n",
        "Step 2: Choose either the YT2Video or YT2Audio cell, select options and paste in the Video ID.\n",
        "\n",
        "Step 3: Click run cell.\n",
        "\n",
        "Step 4: Click allow to the notification asking for permission to download multiple files."
      ],
      "metadata": {
        "id": "PD6QVzYgKuL4"
      }
    },
    {
      "cell_type": "code",
      "execution_count": 11,
      "metadata": {
        "id": "fPpzwYdmH0CB",
        "colab": {
          "base_uri": "https://localhost:8080/"
        },
        "outputId": "474b8745-b6fa-457c-da51-93d5d219b67b"
      },
      "outputs": [
        {
          "output_type": "stream",
          "name": "stdout",
          "text": [
            "Looking in indexes: https://pypi.org/simple, https://us-python.pkg.dev/colab-wheels/public/simple/\n",
            "Requirement already satisfied: yt-dlp in /usr/local/lib/python3.9/dist-packages (2023.3.4)\n",
            "Requirement already satisfied: certifi in /usr/local/lib/python3.9/dist-packages (from yt-dlp) (2022.12.7)\n",
            "Requirement already satisfied: brotli in /usr/local/lib/python3.9/dist-packages (from yt-dlp) (1.0.9)\n",
            "Requirement already satisfied: websockets in /usr/local/lib/python3.9/dist-packages (from yt-dlp) (11.0.1)\n",
            "Requirement already satisfied: mutagen in /usr/local/lib/python3.9/dist-packages (from yt-dlp) (1.46.0)\n",
            "Requirement already satisfied: pycryptodomex in /usr/local/lib/python3.9/dist-packages (from yt-dlp) (3.17)\n"
          ]
        }
      ],
      "source": [
        "#@title Prerequisites\n",
        "\n",
        "!pip install yt-dlp  # installs yt-dlp library\n",
        "\n",
        "import os  # library for working with operating system\n",
        "from google.colab import files  # library for working with Google Colab files\n",
        "import shutil  # library for working with file operations\n",
        "from typing import List  # module for type hints"
      ]
    },
    {
      "cell_type": "code",
      "source": [
        "#@title YT2Video\n",
        "\n",
        "# Clears the current directory of all files\n",
        "dir_path = '/content/'\n",
        "for file_name in os.listdir(dir_path):\n",
        "    if os.path.isfile(os.path.join(dir_path, file_name)):\n",
        "        os.remove(os.path.join(dir_path, file_name))\n",
        "\n",
        "# A class is used here to apply Object-oriented Programming concepts\n",
        "class VideoDownloader:\n",
        "    \n",
        "  # Defining variables\n",
        "    def __init__(self, video_filetype, quality='best'):\n",
        "        self.video_filetype = video_filetype\n",
        "        self.quality = quality\n",
        "    \n",
        "  # Method load order\n",
        "    def download(self, video_ids: List[str]):\n",
        "        self.urls = [f\"https://www.youtube.com/watch?v={id}\" for id in video_ids] #Creates a list, appending the YouTube URL to the Video ID\n",
        "        self._download_video()\n",
        "        self._get_video_files()\n",
        "        self._download_files()\n",
        "\n",
        "  # Downloads videos in the specified format and quality\n",
        "    def _download_video(self):\n",
        "        os.system(f\"yt-dlp --no-warnings --recode-video {self.video_filetype} --merge-output-format {self.video_filetype} --format '{self.quality}[ext={self.video_filetype}]' --output '/content/%(title)s.%(ext)s' {' '.join(self.urls)}\")\n",
        "\n",
        "  # Gets a list of the video files\n",
        "    def _get_video_files(self):\n",
        "        self.video_files = [f for f in os.listdir('/content') if f.endswith(f'.{self.video_filetype}')]\n",
        "\n",
        "  # Downloads all video files to the user's local machine\n",
        "    def _download_files(self):\n",
        "        for video_file in self.video_files:\n",
        "            files.download(os.path.join('/content', video_file))\n",
        "\n",
        "# User inputs\n",
        "video_filetype = \"mp4\" #@param ['mp4']\n",
        "quality = \"best\" #@param ['best', 'worst']\n",
        "video_ids = [\"J---aiyznGQ\", \"jNQXAC9IVRw\"] #@param\n",
        "\n",
        "# Creates instance of VideoDownloader class and starts the download method\n",
        "downloader = VideoDownloader(video_filetype, quality)  \n",
        "downloader.download(video_ids)"
      ],
      "metadata": {
        "id": "tcM_dvNnTAqG",
        "colab": {
          "base_uri": "https://localhost:8080/",
          "height": 17
        },
        "cellView": "form",
        "outputId": "473be5e2-de3e-4ed1-9edc-6715f3adca83"
      },
      "execution_count": 9,
      "outputs": [
        {
          "output_type": "display_data",
          "data": {
            "text/plain": [
              "<IPython.core.display.Javascript object>"
            ],
            "application/javascript": [
              "\n",
              "    async function download(id, filename, size) {\n",
              "      if (!google.colab.kernel.accessAllowed) {\n",
              "        return;\n",
              "      }\n",
              "      const div = document.createElement('div');\n",
              "      const label = document.createElement('label');\n",
              "      label.textContent = `Downloading \"${filename}\": `;\n",
              "      div.appendChild(label);\n",
              "      const progress = document.createElement('progress');\n",
              "      progress.max = size;\n",
              "      div.appendChild(progress);\n",
              "      document.body.appendChild(div);\n",
              "\n",
              "      const buffers = [];\n",
              "      let downloaded = 0;\n",
              "\n",
              "      const channel = await google.colab.kernel.comms.open(id);\n",
              "      // Send a message to notify the kernel that we're ready.\n",
              "      channel.send({})\n",
              "\n",
              "      for await (const message of channel.messages) {\n",
              "        // Send a message to notify the kernel that we're ready.\n",
              "        channel.send({})\n",
              "        if (message.buffers) {\n",
              "          for (const buffer of message.buffers) {\n",
              "            buffers.push(buffer);\n",
              "            downloaded += buffer.byteLength;\n",
              "            progress.value = downloaded;\n",
              "          }\n",
              "        }\n",
              "      }\n",
              "      const blob = new Blob(buffers, {type: 'application/binary'});\n",
              "      const a = document.createElement('a');\n",
              "      a.href = window.URL.createObjectURL(blob);\n",
              "      a.download = filename;\n",
              "      div.appendChild(a);\n",
              "      a.click();\n",
              "      div.remove();\n",
              "    }\n",
              "  "
            ]
          },
          "metadata": {}
        },
        {
          "output_type": "display_data",
          "data": {
            "text/plain": [
              "<IPython.core.display.Javascript object>"
            ],
            "application/javascript": [
              "download(\"download_e861744b-710c-4b59-941b-87af2ddbff08\", \"Me at the zoo.mp4\", 791367)"
            ]
          },
          "metadata": {}
        },
        {
          "output_type": "display_data",
          "data": {
            "text/plain": [
              "<IPython.core.display.Javascript object>"
            ],
            "application/javascript": [
              "\n",
              "    async function download(id, filename, size) {\n",
              "      if (!google.colab.kernel.accessAllowed) {\n",
              "        return;\n",
              "      }\n",
              "      const div = document.createElement('div');\n",
              "      const label = document.createElement('label');\n",
              "      label.textContent = `Downloading \"${filename}\": `;\n",
              "      div.appendChild(label);\n",
              "      const progress = document.createElement('progress');\n",
              "      progress.max = size;\n",
              "      div.appendChild(progress);\n",
              "      document.body.appendChild(div);\n",
              "\n",
              "      const buffers = [];\n",
              "      let downloaded = 0;\n",
              "\n",
              "      const channel = await google.colab.kernel.comms.open(id);\n",
              "      // Send a message to notify the kernel that we're ready.\n",
              "      channel.send({})\n",
              "\n",
              "      for await (const message of channel.messages) {\n",
              "        // Send a message to notify the kernel that we're ready.\n",
              "        channel.send({})\n",
              "        if (message.buffers) {\n",
              "          for (const buffer of message.buffers) {\n",
              "            buffers.push(buffer);\n",
              "            downloaded += buffer.byteLength;\n",
              "            progress.value = downloaded;\n",
              "          }\n",
              "        }\n",
              "      }\n",
              "      const blob = new Blob(buffers, {type: 'application/binary'});\n",
              "      const a = document.createElement('a');\n",
              "      a.href = window.URL.createObjectURL(blob);\n",
              "      a.download = filename;\n",
              "      div.appendChild(a);\n",
              "      a.click();\n",
              "      div.remove();\n",
              "    }\n",
              "  "
            ]
          },
          "metadata": {}
        },
        {
          "output_type": "display_data",
          "data": {
            "text/plain": [
              "<IPython.core.display.Javascript object>"
            ],
            "application/javascript": [
              "download(\"download_ead237d0-0e1d-444b-b6d9-5807896a58e0\", \"Charlie Schmidt's Keyboard Cat! - THE ORIGINAL!.mp4\", 2222904)"
            ]
          },
          "metadata": {}
        }
      ]
    },
    {
      "cell_type": "code",
      "source": [
        "#@title YT2Audio\n",
        "\n",
        "# Clears the current directory of all files\n",
        "dir_path = '/content/'\n",
        "for file_name in os.listdir(dir_path):\n",
        "    if os.path.isfile(os.path.join(dir_path, file_name)):\n",
        "        os.remove(os.path.join(dir_path, file_name))\n",
        "\n",
        "# A class is used here to apply Object-oriented Programming concepts\n",
        "class AudioDownloader:\n",
        "    \n",
        "  # Defining variables\n",
        "    def __init__(self, audio_filetype):\n",
        "        self.audio_filetype = audio_filetype\n",
        "\n",
        "  # Method load order\n",
        "    def download(self, video_ids: List[str]):\n",
        "        self.urls = [f\"https://www.youtube.com/watch?v={id}\" for id in video_ids] #Creates a list, appending the YouTube URL to the Video ID\n",
        "        self._download_audio()\n",
        "        self._get_audio_files()\n",
        "        self._download_files()\n",
        "    \n",
        "  # Downloads audio in the specified format and quality\n",
        "    def _download_audio(self):\n",
        "        os.system(f\"yt-dlp --extract-audio --audio-format {self.audio_filetype} --output '/content/%(title)s.%(ext)s' {' '.join(self.urls)}\")\n",
        "    \n",
        "  # Gets a list of the audio files\n",
        "    def _get_audio_files(self):\n",
        "        self.audio_files = [f for f in os.listdir('/content') if f.endswith(f'.{self.audio_filetype}')]\n",
        "    \n",
        "  # Downloads all audio files to the user's local machine\n",
        "    def _download_files(self):\n",
        "        for audio_file in self.audio_files:\n",
        "            files.download(os.path.join('/content', audio_file))\n",
        "\n",
        "# User inputs\n",
        "audio_filetype = \"wav\" #@param ['flac', 'm4a', 'mp3', 'opus', 'wav']\n",
        "video_ids = [\"J---aiyznGQ\", \"jNQXAC9IVRw\"] #@param\n",
        "\n",
        "# Creates instance of VideoDownloader class and starts the download method\n",
        "downloader = AudioDownloader(audio_filetype)\n",
        "downloader.download(video_ids)"
      ],
      "metadata": {
        "colab": {
          "base_uri": "https://localhost:8080/",
          "height": 17
        },
        "id": "FtovKBH5QYSb",
        "outputId": "d33eb341-223b-44f7-b9bf-6cde9e3167ec",
        "cellView": "form"
      },
      "execution_count": 8,
      "outputs": [
        {
          "output_type": "display_data",
          "data": {
            "text/plain": [
              "<IPython.core.display.Javascript object>"
            ],
            "application/javascript": [
              "\n",
              "    async function download(id, filename, size) {\n",
              "      if (!google.colab.kernel.accessAllowed) {\n",
              "        return;\n",
              "      }\n",
              "      const div = document.createElement('div');\n",
              "      const label = document.createElement('label');\n",
              "      label.textContent = `Downloading \"${filename}\": `;\n",
              "      div.appendChild(label);\n",
              "      const progress = document.createElement('progress');\n",
              "      progress.max = size;\n",
              "      div.appendChild(progress);\n",
              "      document.body.appendChild(div);\n",
              "\n",
              "      const buffers = [];\n",
              "      let downloaded = 0;\n",
              "\n",
              "      const channel = await google.colab.kernel.comms.open(id);\n",
              "      // Send a message to notify the kernel that we're ready.\n",
              "      channel.send({})\n",
              "\n",
              "      for await (const message of channel.messages) {\n",
              "        // Send a message to notify the kernel that we're ready.\n",
              "        channel.send({})\n",
              "        if (message.buffers) {\n",
              "          for (const buffer of message.buffers) {\n",
              "            buffers.push(buffer);\n",
              "            downloaded += buffer.byteLength;\n",
              "            progress.value = downloaded;\n",
              "          }\n",
              "        }\n",
              "      }\n",
              "      const blob = new Blob(buffers, {type: 'application/binary'});\n",
              "      const a = document.createElement('a');\n",
              "      a.href = window.URL.createObjectURL(blob);\n",
              "      a.download = filename;\n",
              "      div.appendChild(a);\n",
              "      a.click();\n",
              "      div.remove();\n",
              "    }\n",
              "  "
            ]
          },
          "metadata": {}
        },
        {
          "output_type": "display_data",
          "data": {
            "text/plain": [
              "<IPython.core.display.Javascript object>"
            ],
            "application/javascript": [
              "download(\"download_c52ba0e8-c9db-45a3-9523-0c7d6b86ec3c\", \"Me at the zoo.wav\", 3649142)"
            ]
          },
          "metadata": {}
        },
        {
          "output_type": "display_data",
          "data": {
            "text/plain": [
              "<IPython.core.display.Javascript object>"
            ],
            "application/javascript": [
              "\n",
              "    async function download(id, filename, size) {\n",
              "      if (!google.colab.kernel.accessAllowed) {\n",
              "        return;\n",
              "      }\n",
              "      const div = document.createElement('div');\n",
              "      const label = document.createElement('label');\n",
              "      label.textContent = `Downloading \"${filename}\": `;\n",
              "      div.appendChild(label);\n",
              "      const progress = document.createElement('progress');\n",
              "      progress.max = size;\n",
              "      div.appendChild(progress);\n",
              "      document.body.appendChild(div);\n",
              "\n",
              "      const buffers = [];\n",
              "      let downloaded = 0;\n",
              "\n",
              "      const channel = await google.colab.kernel.comms.open(id);\n",
              "      // Send a message to notify the kernel that we're ready.\n",
              "      channel.send({})\n",
              "\n",
              "      for await (const message of channel.messages) {\n",
              "        // Send a message to notify the kernel that we're ready.\n",
              "        channel.send({})\n",
              "        if (message.buffers) {\n",
              "          for (const buffer of message.buffers) {\n",
              "            buffers.push(buffer);\n",
              "            downloaded += buffer.byteLength;\n",
              "            progress.value = downloaded;\n",
              "          }\n",
              "        }\n",
              "      }\n",
              "      const blob = new Blob(buffers, {type: 'application/binary'});\n",
              "      const a = document.createElement('a');\n",
              "      a.href = window.URL.createObjectURL(blob);\n",
              "      a.download = filename;\n",
              "      div.appendChild(a);\n",
              "      a.click();\n",
              "      div.remove();\n",
              "    }\n",
              "  "
            ]
          },
          "metadata": {}
        },
        {
          "output_type": "display_data",
          "data": {
            "text/plain": [
              "<IPython.core.display.Javascript object>"
            ],
            "application/javascript": [
              "download(\"download_8306065f-26c7-4237-bf0e-ceb750a3bbc8\", \"Charlie Schmidt's Keyboard Cat! - THE ORIGINAL!.wav\", 10456862)"
            ]
          },
          "metadata": {}
        }
      ]
    },
    {
      "cell_type": "markdown",
      "source": [
        "# Notes (for nerds)\n",
        "When writing the code, I use object-oriented programming (OOP) principles to encapsulate the different functionalities of the program.\n",
        "\n",
        "---\n",
        "\n",
        "One of the main benefits of using OOP is the ability to abstract away implementation details and focus on the functionality of each class. This makes the code more modular and easier to understand, maintain, and extend.\n",
        "\n",
        "> For example, if I wanted to add a new file format for audio or video, I could simply add a new method to the appropriate class, without having to modify any of the other code.\n",
        "\n",
        "---\n",
        "\n",
        "Using classes also allowed me to easily store and access variables related to the specific instance of the class. This makes the code more flexible and adaptable to different use cases.\n",
        "\n",
        "> For example, in the VideoDownloader class, I store the video file type and quality as instance variables, which can be accessed and modified as needed. \n",
        "\n"
      ],
      "metadata": {
        "id": "htDdf8EjJlo2"
      }
    }
  ]
}